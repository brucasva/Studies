{
 "cells": [
  {
   "cell_type": "markdown",
   "id": "0226e6f9-ca5c-4152-8bc1-421c1e739dde",
   "metadata": {},
   "source": [
    "# Sistemas de Recomendação\n",
    "\n",
    "$\\newcommand{\\bX}{\\mathbf{X}}$\n",
    "$\\newcommand{\\bw}{\\mathbf{w}}$\n",
    "$\\newcommand{\\by}{\\mathbf{y}}$\n",
    "$\\newcommand{\\bx}{\\mathbf{x}}$\n",
    "$\\newcommand{\\bU}{\\mathbf{U}}$\n",
    "$\\newcommand{\\bu}{\\mathbf{u}}$\n",
    "$\\newcommand{\\bV}{\\mathbf{V}}$\n",
    "$\\newcommand{\\bv}{\\mathbf{v}}$\n",
    "$\\newcommand{\\bG}{\\mathbf{G}}$\n",
    "$\\newcommand{\\bg}{\\mathbf{g}}$\n",
    "$\\newcommand{\\bZ}{\\mathbf{Z}}$\n",
    "$\\newcommand{\\bz}{\\mathbf{z}}$\n",
    "$\\newcommand{\\bmu}{\\boldsymbol{\\mu}}$\n",
    "$\\newcommand{\\bC}{\\mathbf{C}}$\n",
    "$\\newcommand{\\bS}{\\mathbf{S}}$\n",
    "$\\newcommand{\\bT}{\\mathbf{T}}$\n",
    "$\\newcommand{\\RR}{\\mathbb{R}}$\n",
    "$\\newcommand{\\calS}{\\mathcal{S}}$\n"
   ]
  },
  {
   "cell_type": "code",
   "execution_count": 1,
   "id": "907c6949-2637-4a5b-835d-73fcbf8b304f",
   "metadata": {},
   "outputs": [],
   "source": [
    "import numpy as np\n",
    "import matplotlib.pyplot as plt\n",
    "import pandas as pd\n",
    "\n",
    "from sklearn.model_selection import train_test_split\n",
    "from sklearn.metrics import mean_squared_error, mean_absolute_error\n",
    "root_mean_squared_error = lambda a, b: ((a-b)**2).mean()**0.5\n",
    "\n",
    "import tensorflow as tf\n",
    "from tensorflow.keras import Model, Input\n",
    "from tensorflow.keras.layers import Lambda, Embedding, Flatten, Dot\n",
    "from tensorflow.keras.layers import Add, Activation, Dense\n",
    "from tensorflow.keras.optimizers import Adam"
   ]
  },
  {
   "cell_type": "markdown",
   "id": "39327d5c-5f56-4c6e-959d-a885973f2fe3",
   "metadata": {},
   "source": [
    "# Exemplo introdutório"
   ]
  },
  {
   "cell_type": "code",
   "execution_count": 2,
   "id": "7cc917ab-76e7-47cd-9ac8-51c95158202c",
   "metadata": {},
   "outputs": [],
   "source": [
    "# Example from course slides\n",
    "\n",
    "users = {0: 'Alice',\n",
    "         1: 'Bruno',\n",
    "         2: 'Carol',\n",
    "         3: 'Davi'}\n",
    "\n",
    "items = {0: 'Star Wars',\n",
    "         1: 'Matrix',\n",
    "         2: 'X-Men',\n",
    "         3: 'Titanic',\n",
    "         4: 'Casablanca'}\n",
    "\n",
    "n_users = len(users)\n",
    "n_items = len(items)\n",
    "\n",
    "# [user, item, rating]\n",
    "data = np.array([[0, 0, 0],\n",
    "                 [0, 1, 0],\n",
    "                 [0, 3, 4],\n",
    "                 [1, 0, 5],\n",
    "                 [1, 1, 5],\n",
    "                 [1, 3, 0],\n",
    "                 [1, 4, 0],\n",
    "                 [2, 0, 5],\n",
    "                 [2, 2, 4],\n",
    "                 [2, 3, 0],\n",
    "                 [2, 4, 0],\n",
    "                 [3, 0, 0],\n",
    "                 [3, 2, 0],\n",
    "                 [3, 3, 5],\n",
    "                 [3, 4, 5]])\n",
    "\n",
    "x = data[:, [0, 1]]\n",
    "y = data[:, 2]"
   ]
  },
  {
   "cell_type": "code",
   "execution_count": 3,
   "id": "27b319a2-bf15-4e50-834b-3eef8ac0ac08",
   "metadata": {},
   "outputs": [
    {
     "name": "stdout",
     "output_type": "stream",
     "text": [
      "Model: \"functional_1\"\n",
      "__________________________________________________________________________________________________\n",
      "Layer (type)                    Output Shape         Param #     Connected to                     \n",
      "==================================================================================================\n",
      "input_user_item (InputLayer)    [(None, 2)]          0                                            \n",
      "__________________________________________________________________________________________________\n",
      "input_user (Lambda)             (None,)              0           input_user_item[0][0]            \n",
      "__________________________________________________________________________________________________\n",
      "input_item (Lambda)             (None,)              0           input_user_item[0][0]            \n",
      "__________________________________________________________________________________________________\n",
      "latent_user (Embedding)         (None, 2)            8           input_user[0][0]                 \n",
      "__________________________________________________________________________________________________\n",
      "latent_item (Embedding)         (None, 2)            10          input_item[0][0]                 \n",
      "__________________________________________________________________________________________________\n",
      "dot (Dot)                       (None, 1)            0           latent_user[0][0]                \n",
      "                                                                 latent_item[0][0]                \n",
      "==================================================================================================\n",
      "Total params: 18\n",
      "Trainable params: 18\n",
      "Non-trainable params: 0\n",
      "__________________________________________________________________________________________________\n"
     ]
    }
   ],
   "source": [
    "def get_model(n_factors=2):\n",
    "    tf.random.set_seed(0)\n",
    "    x = Input(shape=(2,), name='input_user_item')\n",
    "    #input1 = x[:, 0]  # simpler form (but without name)\n",
    "    #input2 = x[:, 1]  # simpler form (but without name)\n",
    "    input1 = Lambda(lambda x: x[:, 0], name='input_user')(x)\n",
    "    input2 = Lambda(lambda x: x[:, 1], name='input_item')(x)\n",
    "    \n",
    "    latent1 = Embedding(n_users, n_factors, name='latent_user')(input1)\n",
    "    latent2 = Embedding(n_items, n_factors, name='latent_item')(input2)\n",
    "    y = Dot(axes=1)([latent1, latent2])\n",
    "    \n",
    "    model = Model(inputs=x, outputs=y)\n",
    "    return model\n",
    "\n",
    "get_model().summary()"
   ]
  },
  {
   "cell_type": "code",
   "execution_count": 4,
   "id": "3a561042-22b5-4074-89ac-dee2d5a00e24",
   "metadata": {
    "tags": []
   },
   "outputs": [
    {
     "name": "stdout",
     "output_type": "stream",
     "text": [
      "Epoch 1/80\n",
      "1/1 [==============================] - 0s 0s/step - loss: 10.4663\n",
      "Epoch 2/80\n",
      "1/1 [==============================] - 0s 998us/step - loss: 10.4392\n",
      "Epoch 3/80\n",
      "1/1 [==============================] - 0s 997us/step - loss: 10.2873\n",
      "Epoch 4/80\n",
      "1/1 [==============================] - 0s 997us/step - loss: 10.0890\n",
      "Epoch 5/80\n",
      "1/1 [==============================] - 0s 2ms/step - loss: 9.8163\n",
      "Epoch 6/80\n",
      "1/1 [==============================] - 0s 998us/step - loss: 9.4427\n",
      "Epoch 7/80\n",
      "1/1 [==============================] - 0s 997us/step - loss: 8.9685\n",
      "Epoch 8/80\n",
      "1/1 [==============================] - 0s 998us/step - loss: 8.3906\n",
      "Epoch 9/80\n",
      "1/1 [==============================] - 0s 997us/step - loss: 7.7090\n",
      "Epoch 10/80\n",
      "1/1 [==============================] - 0s 997us/step - loss: 6.9337\n",
      "Epoch 11/80\n",
      "1/1 [==============================] - 0s 3ms/step - loss: 6.0830\n",
      "Epoch 12/80\n",
      "1/1 [==============================] - 0s 998us/step - loss: 5.1828\n",
      "Epoch 13/80\n",
      "1/1 [==============================] - 0s 998us/step - loss: 4.2670\n",
      "Epoch 14/80\n",
      "1/1 [==============================] - 0s 998us/step - loss: 3.3760\n",
      "Epoch 15/80\n",
      "1/1 [==============================] - 0s 2ms/step - loss: 2.5541\n",
      "Epoch 16/80\n",
      "1/1 [==============================] - 0s 996us/step - loss: 1.8437\n",
      "Epoch 17/80\n",
      "1/1 [==============================] - 0s 998us/step - loss: 1.2791\n",
      "Epoch 18/80\n",
      "1/1 [==============================] - 0s 997us/step - loss: 0.8812\n",
      "Epoch 19/80\n",
      "1/1 [==============================] - 0s 997us/step - loss: 0.6516\n",
      "Epoch 20/80\n",
      "1/1 [==============================] - 0s 993us/step - loss: 0.5735\n",
      "Epoch 21/80\n",
      "1/1 [==============================] - 0s 998us/step - loss: 0.6182\n",
      "Epoch 22/80\n",
      "1/1 [==============================] - 0s 997us/step - loss: 0.7466\n",
      "Epoch 23/80\n",
      "1/1 [==============================] - 0s 2ms/step - loss: 0.9018\n",
      "Epoch 24/80\n",
      "1/1 [==============================] - 0s 2ms/step - loss: 1.0155\n",
      "Epoch 25/80\n",
      "1/1 [==============================] - 0s 997us/step - loss: 1.0356\n",
      "Epoch 26/80\n",
      "1/1 [==============================] - 0s 997us/step - loss: 0.9487\n",
      "Epoch 27/80\n",
      "1/1 [==============================] - 0s 997us/step - loss: 0.7801\n",
      "Epoch 28/80\n",
      "1/1 [==============================] - 0s 997us/step - loss: 0.5750\n",
      "Epoch 29/80\n",
      "1/1 [==============================] - 0s 991us/step - loss: 0.3796\n",
      "Epoch 30/80\n",
      "1/1 [==============================] - 0s 998us/step - loss: 0.2279\n",
      "Epoch 31/80\n",
      "1/1 [==============================] - 0s 997us/step - loss: 0.1360\n",
      "Epoch 32/80\n",
      "1/1 [==============================] - 0s 2ms/step - loss: 0.1037\n",
      "Epoch 33/80\n",
      "1/1 [==============================] - 0s 997us/step - loss: 0.1190\n",
      "Epoch 34/80\n",
      "1/1 [==============================] - 0s 998us/step - loss: 0.1633\n",
      "Epoch 35/80\n",
      "1/1 [==============================] - 0s 1ms/step - loss: 0.2175\n",
      "Epoch 36/80\n",
      "1/1 [==============================] - 0s 998us/step - loss: 0.2656\n",
      "Epoch 37/80\n",
      "1/1 [==============================] - 0s 2ms/step - loss: 0.2964\n",
      "Epoch 38/80\n",
      "1/1 [==============================] - 0s 997us/step - loss: 0.3047\n",
      "Epoch 39/80\n",
      "1/1 [==============================] - 0s 997us/step - loss: 0.2900\n",
      "Epoch 40/80\n",
      "1/1 [==============================] - 0s 998us/step - loss: 0.2561\n",
      "Epoch 41/80\n",
      "1/1 [==============================] - 0s 998us/step - loss: 0.2092\n",
      "Epoch 42/80\n",
      "1/1 [==============================] - 0s 2ms/step - loss: 0.1570\n",
      "Epoch 43/80\n",
      "1/1 [==============================] - 0s 2ms/step - loss: 0.1070\n",
      "Epoch 44/80\n",
      "1/1 [==============================] - 0s 998us/step - loss: 0.0659\n",
      "Epoch 45/80\n",
      "1/1 [==============================] - 0s 2ms/step - loss: 0.0377\n",
      "Epoch 46/80\n",
      "1/1 [==============================] - 0s 997us/step - loss: 0.0241\n",
      "Epoch 47/80\n",
      "1/1 [==============================] - 0s 998us/step - loss: 0.0238\n",
      "Epoch 48/80\n",
      "1/1 [==============================] - 0s 997us/step - loss: 0.0332\n",
      "Epoch 49/80\n",
      "1/1 [==============================] - 0s 998us/step - loss: 0.0470\n",
      "Epoch 50/80\n",
      "1/1 [==============================] - 0s 997us/step - loss: 0.0602\n",
      "Epoch 51/80\n",
      "1/1 [==============================] - 0s 996us/step - loss: 0.0685\n",
      "Epoch 52/80\n",
      "1/1 [==============================] - 0s 998us/step - loss: 0.0699\n",
      "Epoch 53/80\n",
      "1/1 [==============================] - 0s 997us/step - loss: 0.0642\n",
      "Epoch 54/80\n",
      "1/1 [==============================] - 0s 998us/step - loss: 0.0533\n",
      "Epoch 55/80\n",
      "1/1 [==============================] - 0s 997us/step - loss: 0.0400\n",
      "Epoch 56/80\n",
      "1/1 [==============================] - 0s 997us/step - loss: 0.0274\n",
      "Epoch 57/80\n",
      "1/1 [==============================] - 0s 1000us/step - loss: 0.0177\n",
      "Epoch 58/80\n",
      "1/1 [==============================] - 0s 998us/step - loss: 0.0119\n",
      "Epoch 59/80\n",
      "1/1 [==============================] - 0s 997us/step - loss: 0.0103\n",
      "Epoch 60/80\n",
      "1/1 [==============================] - 0s 2ms/step - loss: 0.0117\n",
      "Epoch 61/80\n",
      "1/1 [==============================] - 0s 7ms/step - loss: 0.0147\n",
      "Epoch 62/80\n",
      "1/1 [==============================] - 0s 998us/step - loss: 0.0178\n",
      "Epoch 63/80\n",
      "1/1 [==============================] - 0s 997us/step - loss: 0.0199\n",
      "Epoch 64/80\n",
      "1/1 [==============================] - 0s 997us/step - loss: 0.0202\n",
      "Epoch 65/80\n",
      "1/1 [==============================] - 0s 2ms/step - loss: 0.0186\n",
      "Epoch 66/80\n",
      "1/1 [==============================] - 0s 2ms/step - loss: 0.0156\n",
      "Epoch 67/80\n",
      "1/1 [==============================] - 0s 997us/step - loss: 0.0119\n",
      "Epoch 68/80\n",
      "1/1 [==============================] - 0s 997us/step - loss: 0.0082\n",
      "Epoch 69/80\n",
      "1/1 [==============================] - 0s 998us/step - loss: 0.0052\n",
      "Epoch 70/80\n",
      "1/1 [==============================] - 0s 998us/step - loss: 0.0034\n",
      "Epoch 71/80\n",
      "1/1 [==============================] - 0s 997us/step - loss: 0.0029\n",
      "Epoch 72/80\n",
      "1/1 [==============================] - 0s 999us/step - loss: 0.0033\n",
      "Epoch 73/80\n",
      "1/1 [==============================] - 0s 998us/step - loss: 0.0043\n",
      "Epoch 74/80\n",
      "1/1 [==============================] - 0s 2ms/step - loss: 0.0053\n",
      "Epoch 75/80\n",
      "1/1 [==============================] - 0s 998us/step - loss: 0.0060\n",
      "Epoch 76/80\n",
      "1/1 [==============================] - 0s 996us/step - loss: 0.0061\n",
      "Epoch 77/80\n",
      "1/1 [==============================] - 0s 997us/step - loss: 0.0056\n",
      "Epoch 78/80\n",
      "1/1 [==============================] - 0s 996us/step - loss: 0.0045\n",
      "Epoch 79/80\n",
      "1/1 [==============================] - 0s 2ms/step - loss: 0.0033\n",
      "Epoch 80/80\n",
      "1/1 [==============================] - 0s 998us/step - loss: 0.0021\n"
     ]
    }
   ],
   "source": [
    "model = get_model()\n",
    "model.compile(loss='mse', optimizer=Adam(lr=0.1))\n",
    "history = model.fit(x, y, epochs=80)"
   ]
  },
  {
   "cell_type": "code",
   "execution_count": 5,
   "id": "26d8276e-7942-4438-a440-7168d0ed5c75",
   "metadata": {},
   "outputs": [
    {
     "name": "stdout",
     "output_type": "stream",
     "text": [
      " MSE: 0.00\n",
      "RMSE: 0.04\n",
      " MAE: 0.03\n",
      "Max error: 0.0731\n"
     ]
    }
   ],
   "source": [
    "y_pred = model.predict(x).reshape(-1)\n",
    "print(f' MSE: {mean_squared_error(y, y_pred):.2f}')\n",
    "print(f'RMSE: {root_mean_squared_error(y, y_pred):.2f}')\n",
    "print(f' MAE: {mean_absolute_error(y, y_pred):.2f}')\n",
    "print(f'Max error: {np.max(np.abs(y - y_pred)):.4f}')"
   ]
  },
  {
   "cell_type": "code",
   "execution_count": 6,
   "id": "fd81589c-1c15-4a9c-9ba8-d56154ea65ae",
   "metadata": {},
   "outputs": [
    {
     "name": "stdout",
     "output_type": "stream",
     "text": [
      "Alice's rating for  Star Wars: 0.0\n",
      "Alice's rating for     Matrix: 0.0\n",
      "Alice's rating for    Titanic: 4.0\n",
      "\n",
      "Alice's predicted rating for      X-Men: 0.0  (-0.03)\n",
      "Alice's predicted rating for Casablanca: 4.0  ( 3.98)\n",
      "\n",
      "Bruno's rating for  Star Wars: 5.0\n",
      "Bruno's rating for     Matrix: 5.0\n",
      "Bruno's rating for    Titanic: 0.0\n",
      "Bruno's rating for Casablanca: 0.0\n",
      "\n",
      "Bruno's predicted rating for      X-Men: 4.0  ( 4.05)\n",
      "\n",
      "Carol's rating for  Star Wars: 5.0\n",
      "Carol's rating for      X-Men: 4.0\n",
      "Carol's rating for    Titanic: 0.0\n",
      "Carol's rating for Casablanca: 0.0\n",
      "\n",
      "Carol's predicted rating for     Matrix: 5.0  ( 5.05)\n",
      "\n",
      " Davi's rating for  Star Wars: 0.0\n",
      " Davi's rating for      X-Men: 0.0\n",
      " Davi's rating for    Titanic: 5.0\n",
      " Davi's rating for Casablanca: 5.0\n",
      "\n",
      " Davi's predicted rating for     Matrix: 0.0  (-0.02)\n",
      "\n"
     ]
    }
   ],
   "source": [
    "for u in users:\n",
    "    rated_items = data[data[:, 0] == u][:, 1]\n",
    "    unrated_items = [i for i in items if i not in rated_items]\n",
    "    for i in rated_items:\n",
    "        r = data[(data[:, 0] == u) & (data[:, 1] == i)][0, 2]\n",
    "        print(f\"{users[u]:>5}'s rating for {items[i]:>10}: {r:.1f}\")\n",
    "    print('')\n",
    "    for i in unrated_items:\n",
    "        r = model.predict([[u, i]]).squeeze()\n",
    "        print(f\"{users[u]:>5}'s predicted rating for {items[i]:>10}: {round(2*r)/2:.1f}  ({r:>5.2f})\")\n",
    "    print('')"
   ]
  },
  {
   "cell_type": "code",
   "execution_count": 7,
   "id": "c7bc4aae-8eaa-4c6b-94ee-a9249211ec9e",
   "metadata": {},
   "outputs": [
    {
     "data": {
      "text/plain": [
       "array([[-1.2014666,  1.3862915],\n",
       "       [ 1.6772667,  1.4647301],\n",
       "       [ 1.6802689,  1.4517628],\n",
       "       [-1.5001832,  1.733903 ]], dtype=float32)"
      ]
     },
     "execution_count": 7,
     "metadata": {},
     "output_type": "execute_result"
    }
   ],
   "source": [
    "# matrix of user embeddings\n",
    "P = model.get_layer('latent_user').weights[0].numpy()\n",
    "P"
   ]
  },
  {
   "cell_type": "code",
   "execution_count": 8,
   "id": "daf8ac11-897e-4276-861c-4ef25d8a3b92",
   "metadata": {},
   "outputs": [
    {
     "data": {
      "text/plain": [
       "array([[ 1.7241026,  1.4892203],\n",
       "       [ 1.7251998,  1.4816427],\n",
       "       [ 1.3844453,  1.1771915],\n",
       "       [-1.4281687,  1.6364156],\n",
       "       [-1.4308362,  1.6322744]], dtype=float32)"
      ]
     },
     "execution_count": 8,
     "metadata": {},
     "output_type": "execute_result"
    }
   ],
   "source": [
    "# matrix of item embeddings\n",
    "Q = model.get_layer('latent_item').weights[0].numpy()\n",
    "Q"
   ]
  },
  {
   "cell_type": "code",
   "execution_count": 9,
   "id": "1006f797-b7c4-442e-9f3c-f59c6d875465",
   "metadata": {},
   "outputs": [
    {
     "name": "stdout",
     "output_type": "stream",
     "text": [
      "Cluster 0:\n",
      "Alice\n",
      "Davi\n",
      "\n",
      "Cluster 1:\n",
      "Bruno\n",
      "Carol\n",
      "\n"
     ]
    }
   ],
   "source": [
    "from sklearn.cluster import KMeans\n",
    "\n",
    "cluster = KMeans(n_clusters=2, random_state=0)\n",
    "cluster.fit(P)\n",
    "for k in range(cluster.n_clusters):\n",
    "    print(f'Cluster {k}:')\n",
    "    for i in np.where(cluster.labels_ == k)[0]:\n",
    "        print(users[i])\n",
    "    print()"
   ]
  },
  {
   "cell_type": "code",
   "execution_count": 10,
   "id": "e5bc3e1e-fc1b-4f8f-a6d5-59e88fe7cf68",
   "metadata": {},
   "outputs": [
    {
     "name": "stdout",
     "output_type": "stream",
     "text": [
      "Cluster 0:\n",
      "Star Wars\n",
      "Matrix\n",
      "X-Men\n",
      "\n",
      "Cluster 1:\n",
      "Titanic\n",
      "Casablanca\n",
      "\n"
     ]
    }
   ],
   "source": [
    "cluster = KMeans(n_clusters=2)\n",
    "cluster.fit(Q)\n",
    "for k in range(cluster.n_clusters):\n",
    "    print(f'Cluster {k}:')\n",
    "    for i in np.where(cluster.labels_ == k)[0]:\n",
    "        print(items[i])\n",
    "    print()"
   ]
  },
  {
   "cell_type": "code",
   "execution_count": 12,
   "id": "ae4568d4-c597-48b1-8f68-f388125e62cf",
   "metadata": {},
   "outputs": [
    {
     "name": "stdout",
     "output_type": "stream",
     "text": [
      "The 2 most similar to Titanic (including itself) are:\n",
      "Titanic\n",
      "Casablanca\n"
     ]
    }
   ],
   "source": [
    "from sklearn.neighbors import NearestNeighbors\n",
    "\n",
    "i = 3\n",
    "K = 2\n",
    "nbrs = NearestNeighbors(n_neighbors=K).fit(Q)\n",
    "_, indices = nbrs.kneighbors(Q[[i]])\n",
    "print(f'The {K} most similar to {items[i]} (including itself) are:')\n",
    "for j in indices[0]:\n",
    "    print(items[j])"
   ]
  },
  {
   "cell_type": "markdown",
   "id": "54275d12-b050-42b4-bc1d-7c85e97646ff",
   "metadata": {},
   "source": [
    "# MovieLens"
   ]
  },
  {
   "cell_type": "markdown",
   "id": "003383dc-cd3e-4df2-8f34-4570f9333db5",
   "metadata": {},
   "source": [
    "- Vamos usar o conjunto de dados [MovieLens Latest Small](https://grouplens.org/datasets/movielens), o qual consiste de 100836 avaliações de 9742 filmes feitas por 610 usuários entre março de 1996 e setembro de 2018 (leia mais na [documentação](http://files.grouplens.org/datasets/movielens/ml-latest-small-README.html)).\n",
    "- O conjunto será separado em 80% de treinamento, 10% de validação e 10% de teste.\n",
    "- Para melhorar o desempenho do modelo, posteriormente iremos introduzir *biases* de usuários e de filmes, bem como um *bias* global. Outra técnica que experimentaremos é restringir os valores da saída através de uma função sigmóide, escalonada para a faixa de possíveis notas de avaliação.\n",
    "- Finalmente, iremos explorar algumas aplicações do modelo obtido: encontrar filmes similares a um dado filme e fornecer as 10 melhores recomendações para algum usuário.\n"
   ]
  },
  {
   "cell_type": "markdown",
   "id": "ccb31cf9-7041-4b78-babd-415ae9088f6c",
   "metadata": {},
   "source": [
    "## Preparação dos dados"
   ]
  },
  {
   "cell_type": "code",
   "execution_count": 13,
   "id": "df8cc4dc-fe1b-4977-b39f-bdbd32bb2f64",
   "metadata": {},
   "outputs": [],
   "source": [
    "from zipfile import ZipFile\n",
    "from tensorflow.keras.utils import get_file\n",
    "\n",
    "url = 'http://files.grouplens.org/datasets/movielens/ml-latest-small.zip'\n",
    "filename = url.split('/')[-1]\n",
    "with ZipFile(get_file(filename, url)) as z:\n",
    "    movies = pd.read_csv(z.open('ml-latest-small/movies.csv'), index_col=0)\n",
    "    data = pd.read_csv(z.open('ml-latest-small/ratings.csv'), usecols=[0,1,2])"
   ]
  },
  {
   "cell_type": "code",
   "execution_count": 14,
   "id": "7f4d4d90-618f-4099-b410-ef2441b61d8f",
   "metadata": {},
   "outputs": [
    {
     "name": "stdout",
     "output_type": "stream",
     "text": [
      "(9742, 2)\n"
     ]
    },
    {
     "data": {
      "text/html": [
       "<div>\n",
       "<style scoped>\n",
       "    .dataframe tbody tr th:only-of-type {\n",
       "        vertical-align: middle;\n",
       "    }\n",
       "\n",
       "    .dataframe tbody tr th {\n",
       "        vertical-align: top;\n",
       "    }\n",
       "\n",
       "    .dataframe thead th {\n",
       "        text-align: right;\n",
       "    }\n",
       "</style>\n",
       "<table border=\"1\" class=\"dataframe\">\n",
       "  <thead>\n",
       "    <tr style=\"text-align: right;\">\n",
       "      <th></th>\n",
       "      <th>title</th>\n",
       "      <th>genres</th>\n",
       "    </tr>\n",
       "    <tr>\n",
       "      <th>movieId</th>\n",
       "      <th></th>\n",
       "      <th></th>\n",
       "    </tr>\n",
       "  </thead>\n",
       "  <tbody>\n",
       "    <tr>\n",
       "      <th>1</th>\n",
       "      <td>Toy Story (1995)</td>\n",
       "      <td>Adventure|Animation|Children|Comedy|Fantasy</td>\n",
       "    </tr>\n",
       "    <tr>\n",
       "      <th>2</th>\n",
       "      <td>Jumanji (1995)</td>\n",
       "      <td>Adventure|Children|Fantasy</td>\n",
       "    </tr>\n",
       "    <tr>\n",
       "      <th>3</th>\n",
       "      <td>Grumpier Old Men (1995)</td>\n",
       "      <td>Comedy|Romance</td>\n",
       "    </tr>\n",
       "    <tr>\n",
       "      <th>4</th>\n",
       "      <td>Waiting to Exhale (1995)</td>\n",
       "      <td>Comedy|Drama|Romance</td>\n",
       "    </tr>\n",
       "    <tr>\n",
       "      <th>5</th>\n",
       "      <td>Father of the Bride Part II (1995)</td>\n",
       "      <td>Comedy</td>\n",
       "    </tr>\n",
       "  </tbody>\n",
       "</table>\n",
       "</div>"
      ],
      "text/plain": [
       "                                      title  \\\n",
       "movieId                                       \n",
       "1                          Toy Story (1995)   \n",
       "2                            Jumanji (1995)   \n",
       "3                   Grumpier Old Men (1995)   \n",
       "4                  Waiting to Exhale (1995)   \n",
       "5        Father of the Bride Part II (1995)   \n",
       "\n",
       "                                              genres  \n",
       "movieId                                               \n",
       "1        Adventure|Animation|Children|Comedy|Fantasy  \n",
       "2                         Adventure|Children|Fantasy  \n",
       "3                                     Comedy|Romance  \n",
       "4                               Comedy|Drama|Romance  \n",
       "5                                             Comedy  "
      ]
     },
     "execution_count": 14,
     "metadata": {},
     "output_type": "execute_result"
    }
   ],
   "source": [
    "print(movies.shape)\n",
    "movies.head()"
   ]
  },
  {
   "cell_type": "code",
   "execution_count": 15,
   "id": "9de149d8-c520-43f6-af8f-87405febe5f6",
   "metadata": {},
   "outputs": [],
   "source": [
    "def search(query):\n",
    "    return movies[movies.title.str.contains(query, case=False)]"
   ]
  },
  {
   "cell_type": "code",
   "execution_count": 16,
   "id": "93b79dd6-50cc-4d6d-ae33-e9fbcf1b1524",
   "metadata": {},
   "outputs": [
    {
     "data": {
      "text/html": [
       "<div>\n",
       "<style scoped>\n",
       "    .dataframe tbody tr th:only-of-type {\n",
       "        vertical-align: middle;\n",
       "    }\n",
       "\n",
       "    .dataframe tbody tr th {\n",
       "        vertical-align: top;\n",
       "    }\n",
       "\n",
       "    .dataframe thead th {\n",
       "        text-align: right;\n",
       "    }\n",
       "</style>\n",
       "<table border=\"1\" class=\"dataframe\">\n",
       "  <thead>\n",
       "    <tr style=\"text-align: right;\">\n",
       "      <th></th>\n",
       "      <th>title</th>\n",
       "      <th>genres</th>\n",
       "    </tr>\n",
       "    <tr>\n",
       "      <th>movieId</th>\n",
       "      <th></th>\n",
       "      <th></th>\n",
       "    </tr>\n",
       "  </thead>\n",
       "  <tbody>\n",
       "    <tr>\n",
       "      <th>2571</th>\n",
       "      <td>Matrix, The (1999)</td>\n",
       "      <td>Action|Sci-Fi|Thriller</td>\n",
       "    </tr>\n",
       "    <tr>\n",
       "      <th>6365</th>\n",
       "      <td>Matrix Reloaded, The (2003)</td>\n",
       "      <td>Action|Adventure|Sci-Fi|Thriller|IMAX</td>\n",
       "    </tr>\n",
       "    <tr>\n",
       "      <th>6934</th>\n",
       "      <td>Matrix Revolutions, The (2003)</td>\n",
       "      <td>Action|Adventure|Sci-Fi|Thriller|IMAX</td>\n",
       "    </tr>\n",
       "    <tr>\n",
       "      <th>27660</th>\n",
       "      <td>Animatrix, The (2003)</td>\n",
       "      <td>Action|Animation|Drama|Sci-Fi</td>\n",
       "    </tr>\n",
       "  </tbody>\n",
       "</table>\n",
       "</div>"
      ],
      "text/plain": [
       "                                  title                                 genres\n",
       "movieId                                                                       \n",
       "2571                 Matrix, The (1999)                 Action|Sci-Fi|Thriller\n",
       "6365        Matrix Reloaded, The (2003)  Action|Adventure|Sci-Fi|Thriller|IMAX\n",
       "6934     Matrix Revolutions, The (2003)  Action|Adventure|Sci-Fi|Thriller|IMAX\n",
       "27660             Animatrix, The (2003)          Action|Animation|Drama|Sci-Fi"
      ]
     },
     "execution_count": 16,
     "metadata": {},
     "output_type": "execute_result"
    }
   ],
   "source": [
    "# from title to movieId\n",
    "search('matrix')"
   ]
  },
  {
   "cell_type": "code",
   "execution_count": 17,
   "id": "fa41b32c-bf19-4de7-b112-a7a8b9144a7a",
   "metadata": {},
   "outputs": [
    {
     "data": {
      "text/plain": [
       "'Matrix, The (1999)'"
      ]
     },
     "execution_count": 17,
     "metadata": {},
     "output_type": "execute_result"
    }
   ],
   "source": [
    "# from movieId to title\n",
    "movies.title[2571]"
   ]
  },
  {
   "cell_type": "code",
   "execution_count": 18,
   "id": "5e9f043a-d1b6-4108-b78d-4973b6a086db",
   "metadata": {},
   "outputs": [
    {
     "name": "stdout",
     "output_type": "stream",
     "text": [
      "(100836, 3)\n"
     ]
    },
    {
     "data": {
      "text/html": [
       "<div>\n",
       "<style scoped>\n",
       "    .dataframe tbody tr th:only-of-type {\n",
       "        vertical-align: middle;\n",
       "    }\n",
       "\n",
       "    .dataframe tbody tr th {\n",
       "        vertical-align: top;\n",
       "    }\n",
       "\n",
       "    .dataframe thead th {\n",
       "        text-align: right;\n",
       "    }\n",
       "</style>\n",
       "<table border=\"1\" class=\"dataframe\">\n",
       "  <thead>\n",
       "    <tr style=\"text-align: right;\">\n",
       "      <th></th>\n",
       "      <th>userId</th>\n",
       "      <th>movieId</th>\n",
       "      <th>rating</th>\n",
       "    </tr>\n",
       "  </thead>\n",
       "  <tbody>\n",
       "    <tr>\n",
       "      <th>0</th>\n",
       "      <td>1</td>\n",
       "      <td>1</td>\n",
       "      <td>4.0</td>\n",
       "    </tr>\n",
       "    <tr>\n",
       "      <th>1</th>\n",
       "      <td>1</td>\n",
       "      <td>3</td>\n",
       "      <td>4.0</td>\n",
       "    </tr>\n",
       "    <tr>\n",
       "      <th>2</th>\n",
       "      <td>1</td>\n",
       "      <td>6</td>\n",
       "      <td>4.0</td>\n",
       "    </tr>\n",
       "    <tr>\n",
       "      <th>3</th>\n",
       "      <td>1</td>\n",
       "      <td>47</td>\n",
       "      <td>5.0</td>\n",
       "    </tr>\n",
       "    <tr>\n",
       "      <th>4</th>\n",
       "      <td>1</td>\n",
       "      <td>50</td>\n",
       "      <td>5.0</td>\n",
       "    </tr>\n",
       "  </tbody>\n",
       "</table>\n",
       "</div>"
      ],
      "text/plain": [
       "   userId  movieId  rating\n",
       "0       1        1     4.0\n",
       "1       1        3     4.0\n",
       "2       1        6     4.0\n",
       "3       1       47     5.0\n",
       "4       1       50     5.0"
      ]
     },
     "execution_count": 18,
     "metadata": {},
     "output_type": "execute_result"
    }
   ],
   "source": [
    "# ratings\n",
    "print(data.shape)\n",
    "data.head()"
   ]
  },
  {
   "cell_type": "code",
   "execution_count": 19,
   "id": "90055e03-b974-41ac-8bcc-9d609f8ab2d4",
   "metadata": {},
   "outputs": [
    {
     "data": {
      "text/html": [
       "<div>\n",
       "<style scoped>\n",
       "    .dataframe tbody tr th:only-of-type {\n",
       "        vertical-align: middle;\n",
       "    }\n",
       "\n",
       "    .dataframe tbody tr th {\n",
       "        vertical-align: top;\n",
       "    }\n",
       "\n",
       "    .dataframe thead th {\n",
       "        text-align: right;\n",
       "    }\n",
       "</style>\n",
       "<table border=\"1\" class=\"dataframe\">\n",
       "  <thead>\n",
       "    <tr style=\"text-align: right;\">\n",
       "      <th></th>\n",
       "      <th>userId</th>\n",
       "      <th>movieId</th>\n",
       "      <th>rating</th>\n",
       "    </tr>\n",
       "  </thead>\n",
       "  <tbody>\n",
       "    <tr>\n",
       "      <th>min</th>\n",
       "      <td>1.0</td>\n",
       "      <td>1.0</td>\n",
       "      <td>0.5</td>\n",
       "    </tr>\n",
       "    <tr>\n",
       "      <th>max</th>\n",
       "      <td>610.0</td>\n",
       "      <td>193609.0</td>\n",
       "      <td>5.0</td>\n",
       "    </tr>\n",
       "  </tbody>\n",
       "</table>\n",
       "</div>"
      ],
      "text/plain": [
       "     userId   movieId  rating\n",
       "min     1.0       1.0     0.5\n",
       "max   610.0  193609.0     5.0"
      ]
     },
     "execution_count": 19,
     "metadata": {},
     "output_type": "execute_result"
    }
   ],
   "source": [
    "data.describe().loc[['min', 'max']]"
   ]
  },
  {
   "cell_type": "code",
   "execution_count": 20,
   "id": "00f18632-8e48-4dfc-8d1b-9cbd9d4d8f30",
   "metadata": {},
   "outputs": [
    {
     "data": {
      "text/plain": [
       "userId      610\n",
       "movieId    9724\n",
       "rating       10\n",
       "dtype: int64"
      ]
     },
     "execution_count": 20,
     "metadata": {},
     "output_type": "execute_result"
    }
   ],
   "source": [
    "data.nunique()"
   ]
  },
  {
   "cell_type": "code",
   "execution_count": 21,
   "id": "821efdcc-187d-4cb9-b26d-e66b7aadb38b",
   "metadata": {},
   "outputs": [
    {
     "data": {
      "text/plain": [
       "[0.5, 1.0, 1.5, 2.0, 2.5, 3.0, 3.5, 4.0, 4.5, 5.0]"
      ]
     },
     "execution_count": 21,
     "metadata": {},
     "output_type": "execute_result"
    }
   ],
   "source": [
    "sorted(data['rating'].unique())"
   ]
  },
  {
   "cell_type": "code",
   "execution_count": 22,
   "id": "417109bc-2fe3-4534-b747-30281f4d8368",
   "metadata": {},
   "outputs": [
    {
     "data": {
      "image/png": "[encoded data removed]",
      "text/plain": [
       "<Figure size 720x288 with 2 Axes>"
      ]
     },
     "metadata": {
      "needs_background": "light"
     },
     "output_type": "display_data"
    },
    {
     "data": {
      "image/png": "[encoded data removed]",
      "text/plain": [
       "<Figure size 720x288 with 2 Axes>"
      ]
     },
     "metadata": {
      "needs_background": "light"
     },
     "output_type": "display_data"
    }
   ],
   "source": [
    "plt.figure(figsize=(10, 4))\n",
    "plt.subplot(1, 2, 1)\n",
    "plt.plot(data['userId'].value_counts().values, label='ratings per user');\n",
    "plt.legend();\n",
    "plt.grid();\n",
    "plt.subplot(1, 2, 2)\n",
    "plt.plot(data['movieId'].value_counts().values, label='ratings per item', c='tab:orange');\n",
    "plt.legend();\n",
    "plt.grid();\n",
    "\n",
    "plt.figure(figsize=(10, 4))\n",
    "plt.subplot(1, 2, 1)\n",
    "plt.plot(data['userId'].value_counts().values, label='ratings per user');\n",
    "plt.legend();\n",
    "plt.grid();\n",
    "plt.ylim([0, 100]);\n",
    "plt.subplot(1, 2, 2)\n",
    "plt.plot(data['movieId'].value_counts().values, label='ratings per item', c='tab:orange');\n",
    "plt.legend();\n",
    "plt.grid();\n",
    "plt.ylim([0, 100]);"
   ]
  },
  {
   "cell_type": "code",
   "execution_count": 23,
   "id": "bd3fe339-c020-4215-99f6-793e775f33af",
   "metadata": {},
   "outputs": [
    {
     "name": "stdout",
     "output_type": "stream",
     "text": [
      "(67020, 3)\n"
     ]
    },
    {
     "data": {
      "text/plain": [
       "userId      566\n",
       "movieId    1286\n",
       "rating       10\n",
       "dtype: int64"
      ]
     },
     "execution_count": 23,
     "metadata": {},
     "output_type": "execute_result"
    }
   ],
   "source": [
    "min_user_count = 20\n",
    "min_item_count = 20\n",
    "\n",
    "while len(data) > 0:\n",
    "    user_counts = data['userId'].value_counts()\n",
    "    item_counts = data['movieId'].value_counts()\n",
    "    if np.all(user_counts >= min_user_count) and np.all(item_counts >= min_item_count):\n",
    "        break    \n",
    "    data = data[np.isin(data['userId'], user_counts[user_counts >= min_user_count].index)]\n",
    "    data = data[np.isin(data['movieId'], item_counts[item_counts >= min_item_count].index)]\n",
    "\n",
    "print(data.shape)\n",
    "data.nunique()"
   ]
  },
  {
   "cell_type": "code",
   "execution_count": 24,
   "id": "44f1c076-8062-4b6b-9fcd-c73f51a924ea",
   "metadata": {},
   "outputs": [
    {
     "data": {
      "text/html": [
       "<div>\n",
       "<style scoped>\n",
       "    .dataframe tbody tr th:only-of-type {\n",
       "        vertical-align: middle;\n",
       "    }\n",
       "\n",
       "    .dataframe tbody tr th {\n",
       "        vertical-align: top;\n",
       "    }\n",
       "\n",
       "    .dataframe thead th {\n",
       "        text-align: right;\n",
       "    }\n",
       "</style>\n",
       "<table border=\"1\" class=\"dataframe\">\n",
       "  <thead>\n",
       "    <tr style=\"text-align: right;\">\n",
       "      <th></th>\n",
       "      <th>title</th>\n",
       "      <th>genres</th>\n",
       "    </tr>\n",
       "    <tr>\n",
       "      <th>movieId</th>\n",
       "      <th></th>\n",
       "      <th></th>\n",
       "    </tr>\n",
       "  </thead>\n",
       "  <tbody>\n",
       "    <tr>\n",
       "      <th>1</th>\n",
       "      <td>Toy Story (1995)</td>\n",
       "      <td>Adventure|Animation|Children|Comedy|Fantasy</td>\n",
       "    </tr>\n",
       "    <tr>\n",
       "      <th>3</th>\n",
       "      <td>Grumpier Old Men (1995)</td>\n",
       "      <td>Comedy|Romance</td>\n",
       "    </tr>\n",
       "    <tr>\n",
       "      <th>6</th>\n",
       "      <td>Heat (1995)</td>\n",
       "      <td>Action|Crime|Thriller</td>\n",
       "    </tr>\n",
       "    <tr>\n",
       "      <th>47</th>\n",
       "      <td>Seven (a.k.a. Se7en) (1995)</td>\n",
       "      <td>Mystery|Thriller</td>\n",
       "    </tr>\n",
       "    <tr>\n",
       "      <th>50</th>\n",
       "      <td>Usual Suspects, The (1995)</td>\n",
       "      <td>Crime|Mystery|Thriller</td>\n",
       "    </tr>\n",
       "    <tr>\n",
       "      <th>...</th>\n",
       "      <td>...</td>\n",
       "      <td>...</td>\n",
       "    </tr>\n",
       "    <tr>\n",
       "      <th>5881</th>\n",
       "      <td>Solaris (2002)</td>\n",
       "      <td>Drama|Romance|Sci-Fi</td>\n",
       "    </tr>\n",
       "    <tr>\n",
       "      <th>3979</th>\n",
       "      <td>Little Nicky (2000)</td>\n",
       "      <td>Comedy</td>\n",
       "    </tr>\n",
       "    <tr>\n",
       "      <th>4247</th>\n",
       "      <td>Joe Dirt (2001)</td>\n",
       "      <td>Adventure|Comedy|Mystery|Romance</td>\n",
       "    </tr>\n",
       "    <tr>\n",
       "      <th>2986</th>\n",
       "      <td>RoboCop 2 (1990)</td>\n",
       "      <td>Action|Crime|Sci-Fi|Thriller</td>\n",
       "    </tr>\n",
       "    <tr>\n",
       "      <th>2013</th>\n",
       "      <td>Poseidon Adventure, The (1972)</td>\n",
       "      <td>Action|Adventure|Drama</td>\n",
       "    </tr>\n",
       "  </tbody>\n",
       "</table>\n",
       "<p>1286 rows × 2 columns</p>\n",
       "</div>"
      ],
      "text/plain": [
       "                                  title  \\\n",
       "movieId                                   \n",
       "1                      Toy Story (1995)   \n",
       "3               Grumpier Old Men (1995)   \n",
       "6                           Heat (1995)   \n",
       "47          Seven (a.k.a. Se7en) (1995)   \n",
       "50           Usual Suspects, The (1995)   \n",
       "...                                 ...   \n",
       "5881                     Solaris (2002)   \n",
       "3979                Little Nicky (2000)   \n",
       "4247                    Joe Dirt (2001)   \n",
       "2986                   RoboCop 2 (1990)   \n",
       "2013     Poseidon Adventure, The (1972)   \n",
       "\n",
       "                                              genres  \n",
       "movieId                                               \n",
       "1        Adventure|Animation|Children|Comedy|Fantasy  \n",
       "3                                     Comedy|Romance  \n",
       "6                              Action|Crime|Thriller  \n",
       "47                                  Mystery|Thriller  \n",
       "50                            Crime|Mystery|Thriller  \n",
       "...                                              ...  \n",
       "5881                            Drama|Romance|Sci-Fi  \n",
       "3979                                          Comedy  \n",
       "4247                Adventure|Comedy|Mystery|Romance  \n",
       "2986                    Action|Crime|Sci-Fi|Thriller  \n",
       "2013                          Action|Adventure|Drama  \n",
       "\n",
       "[1286 rows x 2 columns]"
      ]
     },
     "execution_count": 24,
     "metadata": {},
     "output_type": "execute_result"
    }
   ],
   "source": [
    "movies = movies.loc[data['movieId'].unique()]\n",
    "movies"
   ]
  },
  {
   "cell_type": "markdown",
   "id": "dee39720-d5ec-4294-8bbf-3d05f00f2f1e",
   "metadata": {},
   "source": [
    "- Será necessário aplicar um codificador como o `sklearn.preprocessing.OrdinalEncoder(dtype=int)` para converter o conjunto de usuários e o conjunto de itens em inteiros consecutivos a partir de zero, pois isso é assumido pela camada de Embedding do Keras, mas não é necessariamente satisfeito no conjunto de dados."
   ]
  },
  {
   "cell_type": "code",
   "execution_count": 25,
   "id": "34661123-59b2-4ce9-b9b9-7466a9fb3422",
   "metadata": {},
   "outputs": [
    {
     "data": {
      "text/plain": [
       "array([[     1,      1],\n",
       "       [     1,      3],\n",
       "       [     1,      6],\n",
       "       ...,\n",
       "       [   610, 164179],\n",
       "       [   610, 166528],\n",
       "       [   610, 168252]], dtype=int64)"
      ]
     },
     "execution_count": 25,
     "metadata": {},
     "output_type": "execute_result"
    }
   ],
   "source": [
    "#x = data[['userId', 'movieId']].to_numpy()\n",
    "y = data['rating'].to_numpy()\n",
    "\n",
    "data[['userId', 'movieId']].to_numpy()"
   ]
  },
  {
   "cell_type": "code",
   "execution_count": 26,
   "id": "064fffbd-63df-433a-b715-d5274807041e",
   "metadata": {},
   "outputs": [
    {
     "data": {
      "text/plain": [
       "array([[   0,    0],\n",
       "       [   0,    2],\n",
       "       [   0,    4],\n",
       "       ...,\n",
       "       [ 565, 1283],\n",
       "       [ 565, 1284],\n",
       "       [ 565, 1285]])"
      ]
     },
     "execution_count": 26,
     "metadata": {},
     "output_type": "execute_result"
    }
   ],
   "source": [
    "from sklearn.preprocessing import OrdinalEncoder\n",
    "\n",
    "encoder = OrdinalEncoder(dtype=int)\n",
    "x = encoder.fit_transform(data[['userId', 'movieId']].to_numpy())\n",
    "\n",
    "x"
   ]
  },
  {
   "cell_type": "markdown",
   "id": "dd3d9783-ecb0-493e-96f4-89dbc1a5ad9f",
   "metadata": {},
   "source": [
    "**Dica:** para evitar confusão, use notações diferentes para os dados de entrada originais e pré-processados (i.e., não denote-os ambos por `x`). Uma sugestão é reservar `x` para os dados completamente pré-processados, prontos para entrar no modelo de *deep learning*, e, caso necessário, uma outra notação para os dados de entrada originais. Por exemplo:\n",
    "```python\n",
    "data_in = data[cols_in]\n",
    "x = prep.fit_transform(data_in.to_numpy())\n",
    "```\n",
    "ou simplesmente:\n",
    "```python\n",
    "x = prep.fit_transform(data[cols_in].to_numpy())\n",
    "```\n",
    "onde `prep` representa a pipeline de pré-processamento e `cols_in` a lista de colunas de entrada."
   ]
  },
  {
   "cell_type": "code",
   "execution_count": 27,
   "id": "8d969f3d-8de7-4f66-95dd-a9c4eb2bef80",
   "metadata": {},
   "outputs": [
    {
     "data": {
      "text/plain": [
       "(566, 1286)"
      ]
     },
     "execution_count": 27,
     "metadata": {},
     "output_type": "execute_result"
    }
   ],
   "source": [
    "n_users, n_items = x.max(axis=0) + 1\n",
    "n_users, n_items"
   ]
  },
  {
   "cell_type": "code",
   "execution_count": 28,
   "id": "667b1433-38e5-44a0-80a9-9e3209ef7762",
   "metadata": {},
   "outputs": [
    {
     "name": "stdout",
     "output_type": "stream",
     "text": [
      "(53616, 2) (53616,)\n",
      "(6702, 2) (6702,)\n",
      "(6702, 2) (6702,)\n"
     ]
    }
   ],
   "source": [
    "x_train, x_test, y_train, y_test = train_test_split(x, y, test_size=0.1, random_state=0)\n",
    "x_train, x_val, y_train, y_val = train_test_split(x_train, y_train, test_size=len(x_test), random_state=0)\n",
    "\n",
    "print(x_train.shape, y_train.shape)\n",
    "print(x_val.shape, y_val.shape)\n",
    "print(x_test.shape, y_test.shape)"
   ]
  },
  {
   "cell_type": "code",
   "execution_count": 29,
   "id": "f1109fcf-d053-4149-b1fc-4158ec27f7da",
   "metadata": {},
   "outputs": [
    {
     "name": "stdout",
     "output_type": "stream",
     "text": [
      "True\n",
      "True\n",
      "True\n",
      "True\n"
     ]
    }
   ],
   "source": [
    "# Do all users and items in the validation and test sets appear also in the training set?\n",
    "\n",
    "for D in [x_val, x_test]:\n",
    "    for j in [0, 1]:\n",
    "        print(np.all(np.isin(np.unique(D[:, j]), np.unique(x_train[:, j]))))"
   ]
  },
  {
   "cell_type": "markdown",
   "id": "069ef0bc-8da0-4018-9744-c799624a5ea4",
   "metadata": {},
   "source": [
    "- Por que, nesse caso, podemos fazer a separação entre treino e teste *após* a codificação dos atributos?"
   ]
  },
  {
   "cell_type": "markdown",
   "id": "1d802022-8ded-48af-a662-ce9d1a62a9a6",
   "metadata": {},
   "source": [
    "## Desenvolvimento do modelo"
   ]
  },
  {
   "cell_type": "code",
   "execution_count": 30,
   "id": "430b640b-6943-47df-b4f4-ecb89710c054",
   "metadata": {},
   "outputs": [
    {
     "name": "stdout",
     "output_type": "stream",
     "text": [
      "Model: \"functional_5\"\n",
      "__________________________________________________________________________________________________\n",
      "Layer (type)                    Output Shape         Param #     Connected to                     \n",
      "==================================================================================================\n",
      "input_user_item (InputLayer)    [(None, 2)]          0                                            \n",
      "__________________________________________________________________________________________________\n",
      "input_user (Lambda)             (None,)              0           input_user_item[0][0]            \n",
      "__________________________________________________________________________________________________\n",
      "input_item (Lambda)             (None,)              0           input_user_item[0][0]            \n",
      "__________________________________________________________________________________________________\n",
      "latent_user (Embedding)         (None, 50)           28300       input_user[0][0]                 \n",
      "__________________________________________________________________________________________________\n",
      "latent_item (Embedding)         (None, 50)           64300       input_item[0][0]                 \n",
      "__________________________________________________________________________________________________\n",
      "dot_2 (Dot)                     (None, 1)            0           latent_user[0][0]                \n",
      "                                                                 latent_item[0][0]                \n",
      "__________________________________________________________________________________________________\n",
      "bias_user (Embedding)           (None, 1)            566         input_user[0][0]                 \n",
      "__________________________________________________________________________________________________\n",
      "add (Add)                       (None, 1)            0           dot_2[0][0]                      \n",
      "                                                                 bias_user[0][0]                  \n",
      "__________________________________________________________________________________________________\n",
      "bias_item (Embedding)           (None, 1)            1286        input_item[0][0]                 \n",
      "__________________________________________________________________________________________________\n",
      "add_1 (Add)                     (None, 1)            0           add[0][0]                        \n",
      "                                                                 bias_item[0][0]                  \n",
      "__________________________________________________________________________________________________\n",
      "bias_global (Dense)             (None, 1)            2           add_1[0][0]                      \n",
      "__________________________________________________________________________________________________\n",
      "activation (Activation)         (None, 1)            0           bias_global[0][0]                \n",
      "__________________________________________________________________________________________________\n",
      "lambda (Lambda)                 (None, 1)            0           activation[0][0]                 \n",
      "==================================================================================================\n",
      "Total params: 94,454\n",
      "Trainable params: 94,454\n",
      "Non-trainable params: 0\n",
      "__________________________________________________________________________________________________\n"
     ]
    }
   ],
   "source": [
    "def get_model(n_factors, global_bias=False, user_bias=False, item_bias=False, sigmoid=False):\n",
    "    tf.random.set_seed(0)\n",
    "    x = Input(shape=(2,), name='input_user_item')\n",
    "    input1 = Lambda(lambda x: x[:, 0], name='input_user')(x)\n",
    "    input2 = Lambda(lambda x: x[:, 1], name='input_item')(x)\n",
    "    \n",
    "    latent1 = Embedding(n_users, n_factors, name='latent_user')(input1)\n",
    "    latent2 = Embedding(n_items, n_factors, name='latent_item')(input2)\n",
    "    y = Dot(axes=1)([latent1, latent2])\n",
    "    \n",
    "    if user_bias:\n",
    "        bias1 = Embedding(n_users, 1, name='bias_user')(input1)\n",
    "        y = Add()([y, bias1])\n",
    "    if item_bias:\n",
    "        bias2 = Embedding(n_items, 1, name='bias_item')(input2)\n",
    "        y = Add()([y, bias2])\n",
    "    if global_bias:\n",
    "        y = Dense(1, kernel_constraint=tf.keras.constraints.unit_norm(), name='bias_global')(y)\n",
    "    if sigmoid:\n",
    "        y = Activation('sigmoid')(y)\n",
    "        y = Lambda(lambda x: 4.5*x + 0.5)(y)\n",
    "    \n",
    "    model = Model(inputs=x, outputs=y)\n",
    "    return model\n",
    "\n",
    "get_model(n_factors=50, global_bias=True, user_bias=True, item_bias=True, sigmoid=True).summary()"
   ]
  },
  {
   "cell_type": "code",
   "execution_count": 31,
   "id": "66589edd-6cbe-4703-81d7-f89ca2f74f41",
   "metadata": {},
   "outputs": [
    {
     "name": "stdout",
     "output_type": "stream",
     "text": [
      "Epoch 1/5\n",
      "838/838 [==============================] - 1s 1ms/step - loss: 11.6383 - val_loss: 4.3933\n",
      "Epoch 2/5\n",
      "838/838 [==============================] - 1s 1ms/step - loss: 1.8233 - val_loss: 0.9580\n",
      "Epoch 3/5\n",
      "838/838 [==============================] - 1s 1ms/step - loss: 0.7955 - val_loss: 0.7363\n",
      "Epoch 4/5\n",
      "838/838 [==============================] - 1s 1ms/step - loss: 0.6985 - val_loss: 0.7100\n",
      "Epoch 5/5\n",
      "838/838 [==============================] - 1s 1ms/step - loss: 0.6739 - val_loss: 0.7025\n",
      "Wall time: 5.19 s\n"
     ]
    }
   ],
   "source": [
    "%%time\n",
    "# baseline (no sigmoid, no biases)\n",
    "model = get_model(n_factors=50)\n",
    "model.compile(loss='mean_squared_error', optimizer=Adam(lr=0.001))\n",
    "history = model.fit(x_train, y_train, batch_size=64, epochs=5, validation_data=(x_val, y_val))\n",
    "# obs: possible to get val_loss around 0.66 with smaller lr and more epochs"
   ]
  },
  {
   "cell_type": "code",
   "execution_count": 32,
   "id": "1247804e-2fa0-4893-b811-590989e46042",
   "metadata": {},
   "outputs": [
    {
     "name": "stdout",
     "output_type": "stream",
     "text": [
      "Epoch 1/5\n",
      "838/838 [==============================] - 1s 1ms/step - loss: 1.5813 - val_loss: 1.0069\n",
      "Epoch 2/5\n",
      "838/838 [==============================] - 1s 1ms/step - loss: 0.7929 - val_loss: 0.7237\n",
      "Epoch 3/5\n",
      "838/838 [==============================] - 1s 1ms/step - loss: 0.6526 - val_loss: 0.6800\n",
      "Epoch 4/5\n",
      "838/838 [==============================] - 1s 1ms/step - loss: 0.5753 - val_loss: 0.6593\n",
      "Epoch 5/5\n",
      "838/838 [==============================] - 1s 1ms/step - loss: 0.5058 - val_loss: 0.6530\n",
      "Wall time: 5.47 s\n"
     ]
    }
   ],
   "source": [
    "%%time\n",
    "# sigmoid\n",
    "model = get_model(n_factors=50, sigmoid=True)\n",
    "model.compile(loss='mean_squared_error', optimizer=Adam(lr=0.001))\n",
    "history = model.fit(x_train, y_train, batch_size=64, epochs=5, validation_data=(x_val, y_val))"
   ]
  },
  {
   "cell_type": "code",
   "execution_count": 33,
   "id": "ef145e3c-0d31-47c8-9849-90634824d92a",
   "metadata": {},
   "outputs": [
    {
     "name": "stdout",
     "output_type": "stream",
     "text": [
      "Epoch 1/5\n",
      "838/838 [==============================] - 1s 1ms/step - loss: 9.8898 - val_loss: 3.1016\n",
      "Epoch 2/5\n",
      "838/838 [==============================] - 1s 1ms/step - loss: 1.3691 - val_loss: 0.8395\n",
      "Epoch 3/5\n",
      "838/838 [==============================] - 1s 1ms/step - loss: 0.7492 - val_loss: 0.7214\n",
      "Epoch 4/5\n",
      "838/838 [==============================] - 1s 1ms/step - loss: 0.6890 - val_loss: 0.7028\n",
      "Epoch 5/5\n",
      "838/838 [==============================] - 1s 1ms/step - loss: 0.6614 - val_loss: 0.6912\n",
      "Wall time: 5.35 s\n"
     ]
    }
   ],
   "source": [
    "%%time\n",
    "# global bias\n",
    "model = get_model(n_factors=50, global_bias=True)\n",
    "model.compile(loss='mean_squared_error', optimizer=Adam(lr=0.001))\n",
    "history = model.fit(x_train, y_train, batch_size=64, epochs=5, validation_data=(x_val, y_val))"
   ]
  },
  {
   "cell_type": "code",
   "execution_count": 34,
   "id": "246e81f7-407e-4125-b784-4c4b2a818640",
   "metadata": {},
   "outputs": [
    {
     "name": "stdout",
     "output_type": "stream",
     "text": [
      "Epoch 1/5\n",
      "838/838 [==============================] - 1s 1ms/step - loss: 10.8978 - val_loss: 3.9071\n",
      "Epoch 2/5\n",
      "838/838 [==============================] - 1s 1ms/step - loss: 1.6816 - val_loss: 0.9257\n",
      "Epoch 3/5\n",
      "838/838 [==============================] - 1s 1ms/step - loss: 0.7808 - val_loss: 0.7311\n",
      "Epoch 4/5\n",
      "838/838 [==============================] - 1s 1ms/step - loss: 0.6929 - val_loss: 0.7068\n",
      "Epoch 5/5\n",
      "838/838 [==============================] - 1s 2ms/step - loss: 0.6672 - val_loss: 0.6989\n",
      "Wall time: 6.08 s\n"
     ]
    }
   ],
   "source": [
    "%%time\n",
    "# user bias\n",
    "model = get_model(n_factors=50, user_bias=True)\n",
    "model.compile(loss='mean_squared_error', optimizer=Adam(lr=0.001))\n",
    "history = model.fit(x_train, y_train, batch_size=64, epochs=5, validation_data=(x_val, y_val))"
   ]
  },
  {
   "cell_type": "code",
   "execution_count": 35,
   "id": "8fca657a-9526-4cb3-9c0d-c020c3dc94ae",
   "metadata": {},
   "outputs": [
    {
     "name": "stdout",
     "output_type": "stream",
     "text": [
      "Epoch 1/5\n",
      "838/838 [==============================] - 1s 1ms/step - loss: 11.1608 - val_loss: 4.0342\n",
      "Epoch 2/5\n",
      "838/838 [==============================] - 1s 1ms/step - loss: 1.7086 - val_loss: 0.9279\n",
      "Epoch 3/5\n",
      "838/838 [==============================] - 1s 1ms/step - loss: 0.7831 - val_loss: 0.7321\n",
      "Epoch 4/5\n",
      "838/838 [==============================] - 1s 1ms/step - loss: 0.6957 - val_loss: 0.7090\n",
      "Epoch 5/5\n",
      "838/838 [==============================] - 1s 1ms/step - loss: 0.6710 - val_loss: 0.7009\n",
      "Wall time: 6.35 s\n"
     ]
    }
   ],
   "source": [
    "%%time\n",
    "# item bias\n",
    "model = get_model(n_factors=50, item_bias=True)\n",
    "model.compile(loss='mean_squared_error', optimizer=Adam(lr=0.001))\n",
    "history = model.fit(x_train, y_train, batch_size=64, epochs=5, validation_data=(x_val, y_val))"
   ]
  },
  {
   "cell_type": "code",
   "execution_count": 36,
   "id": "fb9efda0-93cb-4632-8a78-0beb5b3002a4",
   "metadata": {},
   "outputs": [
    {
     "name": "stdout",
     "output_type": "stream",
     "text": [
      "Epoch 1/5\n",
      "838/838 [==============================] - 1s 1ms/step - loss: 1.1645 - val_loss: 0.8596\n",
      "Epoch 2/5\n",
      "838/838 [==============================] - 1s 1ms/step - loss: 0.7510 - val_loss: 0.7024\n",
      "Epoch 3/5\n",
      "838/838 [==============================] - 1s 1ms/step - loss: 0.6029 - val_loss: 0.6631\n",
      "Epoch 4/5\n",
      "838/838 [==============================] - 1s 1ms/step - loss: 0.4959 - val_loss: 0.6528\n",
      "Epoch 5/5\n",
      "838/838 [==============================] - 1s 1ms/step - loss: 0.4029 - val_loss: 0.6576\n",
      "Wall time: 5.73 s\n"
     ]
    }
   ],
   "source": [
    "%%time\n",
    "# sigmoid, all biases\n",
    "model = get_model(n_factors=50, sigmoid=True, global_bias=True, user_bias=True, item_bias=True)\n",
    "model.compile(loss='mean_squared_error', optimizer=Adam(lr=0.001))\n",
    "history = model.fit(x_train, y_train, batch_size=64, epochs=5, validation_data=(x_val, y_val))"
   ]
  },
  {
   "cell_type": "markdown",
   "id": "9b9a2dfd-ec2f-4d7a-bc0b-44951010580c",
   "metadata": {},
   "source": [
    "- Melhor modelo para esse conjunto de dados: `sigmoid`\n",
    "- Porém, o modelo `sigmoid, all biases` conseguiu melhor o desempenho de treino\n",
    "  - Possivelmente teria o melhor desempenho em um conjunto maior, com menos chance de overfitting\n",
    "- Todos os modelos incorrem em overfitting rapidamente (< 10 épocas)"
   ]
  },
  {
   "cell_type": "code",
   "execution_count": 37,
   "id": "ccbf2ceb-3677-4043-aa29-3db101fc4da8",
   "metadata": {},
   "outputs": [
    {
     "name": "stdout",
     "output_type": "stream",
     "text": [
      "Epoch 1/5\n",
      "838/838 [==============================] - 1s 1ms/step - loss: 1.5813 - val_loss: 1.0069\n",
      "Epoch 2/5\n",
      "838/838 [==============================] - 1s 995us/step - loss: 0.7929 - val_loss: 0.7237\n",
      "Epoch 3/5\n",
      "838/838 [==============================] - 1s 925us/step - loss: 0.6526 - val_loss: 0.6800\n",
      "Epoch 4/5\n",
      "838/838 [==============================] - 1s 952us/step - loss: 0.5753 - val_loss: 0.6593\n",
      "Epoch 5/5\n",
      "838/838 [==============================] - 1s 916us/step - loss: 0.5058 - val_loss: 0.6530\n",
      "Wall time: 4.64 s\n"
     ]
    }
   ],
   "source": [
    "%%time\n",
    "# sigmoid\n",
    "model = get_model(n_factors=50, sigmoid=True)\n",
    "model.compile(loss='mean_squared_error', optimizer=Adam(lr=0.001))\n",
    "history = model.fit(x_train, y_train, batch_size=64, epochs=5, validation_data=(x_val, y_val))"
   ]
  },
  {
   "cell_type": "markdown",
   "id": "e53bb3ab-b7c6-4b65-bd10-c415a9fd1d79",
   "metadata": {},
   "source": [
    "## Avaliação do modelo"
   ]
  },
  {
   "cell_type": "code",
   "execution_count": 38,
   "id": "229f3f72-3ef3-4e4a-96bf-2d616dcadb03",
   "metadata": {},
   "outputs": [
    {
     "name": "stdout",
     "output_type": "stream",
     "text": [
      "210/210 [==============================] - 0s 446us/step - loss: 0.6499\n"
     ]
    },
    {
     "data": {
      "text/plain": [
       "0.6499115228652954"
      ]
     },
     "execution_count": 38,
     "metadata": {},
     "output_type": "execute_result"
    }
   ],
   "source": [
    "model.evaluate(x_test, y_test)"
   ]
  },
  {
   "cell_type": "code",
   "execution_count": 39,
   "id": "d0c466d7-90fd-43f6-82c8-844c2441986f",
   "metadata": {},
   "outputs": [
    {
     "name": "stdout",
     "output_type": "stream",
     "text": [
      " MSE: 0.65\n",
      "RMSE: 0.81\n",
      " MAE: 0.62\n",
      "Max error: 3.8663\n"
     ]
    }
   ],
   "source": [
    "y_pred = model.predict(x_test).reshape(-1)\n",
    "print(f' MSE: {mean_squared_error(y_test, y_pred):.2f}')\n",
    "print(f'RMSE: {root_mean_squared_error(y_test, y_pred):.2f}')\n",
    "print(f' MAE: {mean_absolute_error(y_test, y_pred):.2f}')\n",
    "print(f'Max error: {np.max(np.abs(y_test - y_pred)):.4f}')"
   ]
  },
  {
   "cell_type": "code",
   "execution_count": 40,
   "id": "9c421421-6705-4e39-af0c-591645a37110",
   "metadata": {},
   "outputs": [
    {
     "data": {
      "image/png": "[encoded data removed]",
      "text/plain": [
       "<Figure size 432x288 with 1 Axes>"
      ]
     },
     "metadata": {
      "needs_background": "light"
     },
     "output_type": "display_data"
    }
   ],
   "source": [
    "plt.hist((y_test - y_pred), bins='auto');"
   ]
  },
  {
   "cell_type": "markdown",
   "id": "2e3fbbb2-59aa-42cf-8c4e-39ba954cc1f4",
   "metadata": {},
   "source": [
    "## Retreinando e fazendo predições"
   ]
  },
  {
   "cell_type": "markdown",
   "id": "ab2bec19-4955-4c46-a91d-ec3f02f58128",
   "metadata": {},
   "source": [
    "Treinando com todos os dados disponíveis:"
   ]
  },
  {
   "cell_type": "code",
   "execution_count": 41,
   "id": "c7060ae7-4fee-40a4-af79-a86ba60b0d55",
   "metadata": {},
   "outputs": [
    {
     "name": "stdout",
     "output_type": "stream",
     "text": [
      "Epoch 1/5\n",
      "1048/1048 [==============================] - 1s 920us/step - loss: 1.4538\n",
      "Epoch 2/5\n",
      "1048/1048 [==============================] - 1s 891us/step - loss: 0.7290\n",
      "Epoch 3/5\n",
      "1048/1048 [==============================] - 1s 903us/step - loss: 0.6204\n",
      "Epoch 4/5\n",
      "1048/1048 [==============================] - 1s 903us/step - loss: 0.5471\n",
      "Epoch 5/5\n",
      "1048/1048 [==============================] - 1s 898us/step - loss: 0.4820\n",
      "Wall time: 5.42 s\n"
     ]
    }
   ],
   "source": [
    "%%time\n",
    "# sigmoid\n",
    "model = get_model(n_factors=50, sigmoid=True)\n",
    "model.compile(loss='mean_squared_error', optimizer=Adam(lr=0.001))\n",
    "history = model.fit(x, y, batch_size=64, epochs=5)"
   ]
  },
  {
   "cell_type": "markdown",
   "id": "4b4e6eda-9146-4418-928c-5bc4ce50117b",
   "metadata": {},
   "source": [
    "### Encontrando itens similares"
   ]
  },
  {
   "cell_type": "code",
   "execution_count": 42,
   "id": "1a541ba1-56ba-425c-b19e-d77761fa440f",
   "metadata": {},
   "outputs": [
    {
     "data": {
      "text/plain": [
       "array([[-1.19972222e-01, -1.64161831e-01, -3.52909341e-02, ...,\n",
       "         3.83125812e-01, -1.94298387e-01,  2.63131171e-01],\n",
       "       [-5.50188497e-02, -1.88727349e-01,  1.34979993e-01, ...,\n",
       "         9.77170393e-02, -1.54138014e-01,  1.70593068e-01],\n",
       "       [-2.54243128e-02, -1.71568602e-01,  2.06975698e-01, ...,\n",
       "         8.66355672e-02,  1.50688598e-03, -1.47994906e-02],\n",
       "       ...,\n",
       "       [-2.48787627e-01, -1.63845971e-01,  7.42901815e-03, ...,\n",
       "         8.73534456e-02, -1.59911349e-01,  2.44332209e-01],\n",
       "       [-1.41495332e-01, -1.72565430e-01, -2.63954848e-01, ...,\n",
       "         1.23488292e-01, -2.26232514e-01,  2.99630702e-01],\n",
       "       [-2.52087235e-01, -1.99439555e-01,  3.03340494e-04, ...,\n",
       "         2.69661576e-01, -2.26904944e-01,  1.24716476e-01]], dtype=float32)"
      ]
     },
     "execution_count": 42,
     "metadata": {},
     "output_type": "execute_result"
    }
   ],
   "source": [
    "# matrix of item embeddings\n",
    "Q = model.get_layer('latent_item').weights[0].numpy()\n",
    "Q"
   ]
  },
  {
   "cell_type": "code",
   "execution_count": 43,
   "id": "53cd75d8-aeae-48be-8af8-489c1d363633",
   "metadata": {},
   "outputs": [
    {
     "data": {
      "text/html": [
       "<div>\n",
       "<style scoped>\n",
       "    .dataframe tbody tr th:only-of-type {\n",
       "        vertical-align: middle;\n",
       "    }\n",
       "\n",
       "    .dataframe tbody tr th {\n",
       "        vertical-align: top;\n",
       "    }\n",
       "\n",
       "    .dataframe thead th {\n",
       "        text-align: right;\n",
       "    }\n",
       "</style>\n",
       "<table border=\"1\" class=\"dataframe\">\n",
       "  <thead>\n",
       "    <tr style=\"text-align: right;\">\n",
       "      <th></th>\n",
       "      <th>title</th>\n",
       "      <th>genres</th>\n",
       "    </tr>\n",
       "    <tr>\n",
       "      <th>movieId</th>\n",
       "      <th></th>\n",
       "      <th></th>\n",
       "    </tr>\n",
       "  </thead>\n",
       "  <tbody>\n",
       "    <tr>\n",
       "      <th>3793</th>\n",
       "      <td>X-Men (2000)</td>\n",
       "      <td>Action|Adventure|Sci-Fi</td>\n",
       "    </tr>\n",
       "    <tr>\n",
       "      <th>6333</th>\n",
       "      <td>X2: X-Men United (2003)</td>\n",
       "      <td>Action|Adventure|Sci-Fi|Thriller</td>\n",
       "    </tr>\n",
       "    <tr>\n",
       "      <th>45499</th>\n",
       "      <td>X-Men: The Last Stand (2006)</td>\n",
       "      <td>Action|Sci-Fi|Thriller</td>\n",
       "    </tr>\n",
       "    <tr>\n",
       "      <th>68319</th>\n",
       "      <td>X-Men Origins: Wolverine (2009)</td>\n",
       "      <td>Action|Sci-Fi|Thriller</td>\n",
       "    </tr>\n",
       "    <tr>\n",
       "      <th>87232</th>\n",
       "      <td>X-Men: First Class (2011)</td>\n",
       "      <td>Action|Adventure|Sci-Fi|Thriller|War</td>\n",
       "    </tr>\n",
       "    <tr>\n",
       "      <th>111362</th>\n",
       "      <td>X-Men: Days of Future Past (2014)</td>\n",
       "      <td>Action|Adventure|Sci-Fi</td>\n",
       "    </tr>\n",
       "  </tbody>\n",
       "</table>\n",
       "</div>"
      ],
      "text/plain": [
       "                                     title  \\\n",
       "movieId                                      \n",
       "3793                          X-Men (2000)   \n",
       "6333               X2: X-Men United (2003)   \n",
       "45499         X-Men: The Last Stand (2006)   \n",
       "68319      X-Men Origins: Wolverine (2009)   \n",
       "87232            X-Men: First Class (2011)   \n",
       "111362   X-Men: Days of Future Past (2014)   \n",
       "\n",
       "                                       genres  \n",
       "movieId                                        \n",
       "3793                  Action|Adventure|Sci-Fi  \n",
       "6333         Action|Adventure|Sci-Fi|Thriller  \n",
       "45499                  Action|Sci-Fi|Thriller  \n",
       "68319                  Action|Sci-Fi|Thriller  \n",
       "87232    Action|Adventure|Sci-Fi|Thriller|War  \n",
       "111362                Action|Adventure|Sci-Fi  "
      ]
     },
     "execution_count": 43,
     "metadata": {},
     "output_type": "execute_result"
    }
   ],
   "source": [
    "search('x-men')"
   ]
  },
  {
   "cell_type": "code",
   "execution_count": 44,
   "id": "1fb2ef34-abb9-48f3-a21b-1e2a021f1697",
   "metadata": {},
   "outputs": [
    {
     "name": "stdout",
     "output_type": "stream",
     "text": [
      "The 6 most similar to X-Men (2000) (including itself) are:\n",
      "X-Men (2000)\n",
      "X2: X-Men United (2003)\n",
      "Spider-Man (2002)\n",
      "Pirates of the Caribbean: The Curse of the Black Pearl (2003)\n",
      "Thor: The Dark World (2013)\n",
      "Stardust (2007)\n"
     ]
    }
   ],
   "source": [
    "i = 3793\n",
    "K = 6\n",
    "nbrs = NearestNeighbors(n_neighbors=K).fit(Q)\n",
    "_, indices = nbrs.kneighbors(Q[[encoder.transform([[1, i]])[0, 1]]])\n",
    "print(f'The {K} most similar to {movies.title[i]} (including itself) are:')\n",
    "for j in indices[0]:\n",
    "    print(movies.title[encoder.inverse_transform([[1, j]])[0, 1]])"
   ]
  },
  {
   "cell_type": "markdown",
   "id": "979d339c-14f1-4430-94ef-db14a331c30f",
   "metadata": {},
   "source": [
    "### Fazendo recomendações"
   ]
  },
  {
   "cell_type": "code",
   "execution_count": 45,
   "id": "69d67e41-1931-48dd-8a1b-c14999bd3587",
   "metadata": {},
   "outputs": [
    {
     "data": {
      "text/html": [
       "<div>\n",
       "<style scoped>\n",
       "    .dataframe tbody tr th:only-of-type {\n",
       "        vertical-align: middle;\n",
       "    }\n",
       "\n",
       "    .dataframe tbody tr th {\n",
       "        vertical-align: top;\n",
       "    }\n",
       "\n",
       "    .dataframe thead th {\n",
       "        text-align: right;\n",
       "    }\n",
       "</style>\n",
       "<table border=\"1\" class=\"dataframe\">\n",
       "  <thead>\n",
       "    <tr style=\"text-align: right;\">\n",
       "      <th></th>\n",
       "      <th>userId</th>\n",
       "      <th>movieId</th>\n",
       "      <th>rating</th>\n",
       "      <th>title</th>\n",
       "    </tr>\n",
       "  </thead>\n",
       "  <tbody>\n",
       "    <tr>\n",
       "      <th>0</th>\n",
       "      <td>1</td>\n",
       "      <td>1</td>\n",
       "      <td>4.0</td>\n",
       "      <td>Toy Story (1995)</td>\n",
       "    </tr>\n",
       "    <tr>\n",
       "      <th>1</th>\n",
       "      <td>1</td>\n",
       "      <td>3</td>\n",
       "      <td>4.0</td>\n",
       "      <td>Grumpier Old Men (1995)</td>\n",
       "    </tr>\n",
       "    <tr>\n",
       "      <th>2</th>\n",
       "      <td>1</td>\n",
       "      <td>6</td>\n",
       "      <td>4.0</td>\n",
       "      <td>Heat (1995)</td>\n",
       "    </tr>\n",
       "    <tr>\n",
       "      <th>3</th>\n",
       "      <td>1</td>\n",
       "      <td>47</td>\n",
       "      <td>5.0</td>\n",
       "      <td>Seven (a.k.a. Se7en) (1995)</td>\n",
       "    </tr>\n",
       "    <tr>\n",
       "      <th>4</th>\n",
       "      <td>1</td>\n",
       "      <td>50</td>\n",
       "      <td>5.0</td>\n",
       "      <td>Usual Suspects, The (1995)</td>\n",
       "    </tr>\n",
       "  </tbody>\n",
       "</table>\n",
       "</div>"
      ],
      "text/plain": [
       "   userId  movieId  rating                        title\n",
       "0       1        1     4.0             Toy Story (1995)\n",
       "1       1        3     4.0      Grumpier Old Men (1995)\n",
       "2       1        6     4.0                  Heat (1995)\n",
       "3       1       47     5.0  Seven (a.k.a. Se7en) (1995)\n",
       "4       1       50     5.0   Usual Suspects, The (1995)"
      ]
     },
     "execution_count": 45,
     "metadata": {},
     "output_type": "execute_result"
    }
   ],
   "source": [
    "data['title'] = movies.title[data['movieId'].values].values\n",
    "data.head()"
   ]
  },
  {
   "cell_type": "code",
   "execution_count": 46,
   "id": "98a9542e-56c0-4b78-aac4-ed3f1db441d2",
   "metadata": {},
   "outputs": [
    {
     "data": {
      "text/html": [
       "<div>\n",
       "<style scoped>\n",
       "    .dataframe tbody tr th:only-of-type {\n",
       "        vertical-align: middle;\n",
       "    }\n",
       "\n",
       "    .dataframe tbody tr th {\n",
       "        vertical-align: top;\n",
       "    }\n",
       "\n",
       "    .dataframe thead th {\n",
       "        text-align: right;\n",
       "    }\n",
       "</style>\n",
       "<table border=\"1\" class=\"dataframe\">\n",
       "  <thead>\n",
       "    <tr style=\"text-align: right;\">\n",
       "      <th></th>\n",
       "      <th>userId</th>\n",
       "      <th>movieId</th>\n",
       "      <th>rating</th>\n",
       "      <th>title</th>\n",
       "    </tr>\n",
       "  </thead>\n",
       "  <tbody>\n",
       "    <tr>\n",
       "      <th>15453</th>\n",
       "      <td>101</td>\n",
       "      <td>1093</td>\n",
       "      <td>5.0</td>\n",
       "      <td>Doors, The (1991)</td>\n",
       "    </tr>\n",
       "    <tr>\n",
       "      <th>15460</th>\n",
       "      <td>101</td>\n",
       "      <td>2395</td>\n",
       "      <td>5.0</td>\n",
       "      <td>Rushmore (1998)</td>\n",
       "    </tr>\n",
       "    <tr>\n",
       "      <th>15470</th>\n",
       "      <td>101</td>\n",
       "      <td>2599</td>\n",
       "      <td>5.0</td>\n",
       "      <td>Election (1999)</td>\n",
       "    </tr>\n",
       "    <tr>\n",
       "      <th>15479</th>\n",
       "      <td>101</td>\n",
       "      <td>2712</td>\n",
       "      <td>5.0</td>\n",
       "      <td>Eyes Wide Shut (1999)</td>\n",
       "    </tr>\n",
       "    <tr>\n",
       "      <th>15488</th>\n",
       "      <td>101</td>\n",
       "      <td>2959</td>\n",
       "      <td>5.0</td>\n",
       "      <td>Fight Club (1999)</td>\n",
       "    </tr>\n",
       "    <tr>\n",
       "      <th>15489</th>\n",
       "      <td>101</td>\n",
       "      <td>2997</td>\n",
       "      <td>5.0</td>\n",
       "      <td>Being John Malkovich (1999)</td>\n",
       "    </tr>\n",
       "    <tr>\n",
       "      <th>15494</th>\n",
       "      <td>101</td>\n",
       "      <td>3174</td>\n",
       "      <td>5.0</td>\n",
       "      <td>Man on the Moon (1999)</td>\n",
       "    </tr>\n",
       "  </tbody>\n",
       "</table>\n",
       "</div>"
      ],
      "text/plain": [
       "       userId  movieId  rating                        title\n",
       "15453     101     1093     5.0            Doors, The (1991)\n",
       "15460     101     2395     5.0              Rushmore (1998)\n",
       "15470     101     2599     5.0              Election (1999)\n",
       "15479     101     2712     5.0        Eyes Wide Shut (1999)\n",
       "15488     101     2959     5.0            Fight Club (1999)\n",
       "15489     101     2997     5.0  Being John Malkovich (1999)\n",
       "15494     101     3174     5.0       Man on the Moon (1999)"
      ]
     },
     "execution_count": 46,
     "metadata": {},
     "output_type": "execute_result"
    }
   ],
   "source": [
    "u = 101\n",
    "data[(data['userId'] == u) & (data['rating'] == 5)]"
   ]
  },
  {
   "cell_type": "code",
   "execution_count": 47,
   "id": "16cb9569-6585-4391-8a70-192c3240c447",
   "metadata": {},
   "outputs": [
    {
     "data": {
      "text/html": [
       "<div>\n",
       "<style scoped>\n",
       "    .dataframe tbody tr th:only-of-type {\n",
       "        vertical-align: middle;\n",
       "    }\n",
       "\n",
       "    .dataframe tbody tr th {\n",
       "        vertical-align: top;\n",
       "    }\n",
       "\n",
       "    .dataframe thead th {\n",
       "        text-align: right;\n",
       "    }\n",
       "</style>\n",
       "<table border=\"1\" class=\"dataframe\">\n",
       "  <thead>\n",
       "    <tr style=\"text-align: right;\">\n",
       "      <th></th>\n",
       "      <th>userId</th>\n",
       "      <th>movieId</th>\n",
       "      <th>title</th>\n",
       "      <th>predicted_rating</th>\n",
       "    </tr>\n",
       "  </thead>\n",
       "  <tbody>\n",
       "    <tr>\n",
       "      <th>166</th>\n",
       "      <td>101</td>\n",
       "      <td>318</td>\n",
       "      <td>Shawshank Redemption, The (1994)</td>\n",
       "      <td>4.794004</td>\n",
       "    </tr>\n",
       "    <tr>\n",
       "      <th>14</th>\n",
       "      <td>101</td>\n",
       "      <td>296</td>\n",
       "      <td>Pulp Fiction (1994)</td>\n",
       "      <td>4.680139</td>\n",
       "    </tr>\n",
       "    <tr>\n",
       "      <th>225</th>\n",
       "      <td>101</td>\n",
       "      <td>904</td>\n",
       "      <td>Rear Window (1954)</td>\n",
       "      <td>4.661403</td>\n",
       "    </tr>\n",
       "    <tr>\n",
       "      <th>25</th>\n",
       "      <td>101</td>\n",
       "      <td>527</td>\n",
       "      <td>Schindler's List (1993)</td>\n",
       "      <td>4.651657</td>\n",
       "    </tr>\n",
       "    <tr>\n",
       "      <th>638</th>\n",
       "      <td>101</td>\n",
       "      <td>1276</td>\n",
       "      <td>Cool Hand Luke (1967)</td>\n",
       "      <td>4.650108</td>\n",
       "    </tr>\n",
       "    <tr>\n",
       "      <th>571</th>\n",
       "      <td>101</td>\n",
       "      <td>858</td>\n",
       "      <td>Godfather, The (1972)</td>\n",
       "      <td>4.639937</td>\n",
       "    </tr>\n",
       "    <tr>\n",
       "      <th>4</th>\n",
       "      <td>101</td>\n",
       "      <td>50</td>\n",
       "      <td>Usual Suspects, The (1995)</td>\n",
       "      <td>4.627990</td>\n",
       "    </tr>\n",
       "    <tr>\n",
       "      <th>652</th>\n",
       "      <td>101</td>\n",
       "      <td>1221</td>\n",
       "      <td>Godfather: Part II, The (1974)</td>\n",
       "      <td>4.622700</td>\n",
       "    </tr>\n",
       "    <tr>\n",
       "      <th>647</th>\n",
       "      <td>101</td>\n",
       "      <td>7361</td>\n",
       "      <td>Eternal Sunshine of the Spotless Mind (2004)</td>\n",
       "      <td>4.615130</td>\n",
       "    </tr>\n",
       "    <tr>\n",
       "      <th>222</th>\n",
       "      <td>101</td>\n",
       "      <td>898</td>\n",
       "      <td>Philadelphia Story, The (1940)</td>\n",
       "      <td>4.613132</td>\n",
       "    </tr>\n",
       "  </tbody>\n",
       "</table>\n",
       "</div>"
      ],
      "text/plain": [
       "     userId  movieId                                         title  \\\n",
       "166     101      318              Shawshank Redemption, The (1994)   \n",
       "14      101      296                           Pulp Fiction (1994)   \n",
       "225     101      904                            Rear Window (1954)   \n",
       "25      101      527                       Schindler's List (1993)   \n",
       "638     101     1276                         Cool Hand Luke (1967)   \n",
       "571     101      858                         Godfather, The (1972)   \n",
       "4       101       50                    Usual Suspects, The (1995)   \n",
       "652     101     1221                Godfather: Part II, The (1974)   \n",
       "647     101     7361  Eternal Sunshine of the Spotless Mind (2004)   \n",
       "222     101      898                Philadelphia Story, The (1940)   \n",
       "\n",
       "     predicted_rating  \n",
       "166          4.794004  \n",
       "14           4.680139  \n",
       "225          4.661403  \n",
       "25           4.651657  \n",
       "638          4.650108  \n",
       "571          4.639937  \n",
       "4            4.627990  \n",
       "652          4.622700  \n",
       "647          4.615130  \n",
       "222          4.613132  "
      ]
     },
     "execution_count": 47,
     "metadata": {},
     "output_type": "execute_result"
    }
   ],
   "source": [
    "unrated_items = [i for i in data['movieId'].unique() if i not in data[data['userId'] == u]['movieId'].values]\n",
    "df = pd.DataFrame(np.c_[np.tile(u, len(unrated_items)), unrated_items], columns=['userId', 'movieId'])\n",
    "df['title'] = movies.title[df['movieId'].values].values\n",
    "x_new = encoder.transform(df[['userId', 'movieId']].to_numpy())\n",
    "y_pred = model.predict(x_new)\n",
    "df['predicted_rating'] = y_pred.reshape(-1)\n",
    "df = df.sort_values(['predicted_rating'], ascending=False)\n",
    "df[:10]"
   ]
  },
  {
   "cell_type": "code",
   "execution_count": null,
   "id": "bdc7f076-b008-4bbf-982e-90936d542c08",
   "metadata": {},
   "outputs": [],
   "source": []
  }
 ],
 "metadata": {
  "kernelspec": {
   "display_name": "Python 3 (ipykernel)",
   "language": "python",
   "name": "python3"
  },
  "language_info": {
   "codemirror_mode": {
    "name": "ipython",
    "version": 3
   },
   "file_extension": ".py",
   "mimetype": "text/x-python",
   "name": "python",
   "nbconvert_exporter": "python",
   "pygments_lexer": "ipython3",
   "version": "3.9.12"
  }
 },
 "nbformat": 4,
 "nbformat_minor": 5
}
